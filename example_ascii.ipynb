{
 "cells": [
  {
   "cell_type": "code",
   "execution_count": null,
   "metadata": {},
   "outputs": [],
   "source": [
    "from grbl_cnc import GrblCNC, GrblCNCMode\n",
    "from gripper_rm import RMAxis\n",
    "\n",
    "c = GrblCNC(port='/dev/tty.usbserial-1110')  # Adjust the port as needed\n",
    "gripper = RMAxis.create_rmaxis_modbus_rtu('/dev/tty.usbserial-B002YGXY', 115200, 0)\n",
    "gripper.go_home()\n",
    "print(\"Initializing CNC...\")\n",
    "async with c:\n",
    "    print(await c.initialize())\n",
    "    print(\"Initialized\")\n",
    "    print(await c.query_device_status())\n",
    "    \n",
    "    # print(await c._run(\"G0X0Y0Z0\"))\n",
    "    # print(\"Zeroed\")\n",
    "    \n",
    "    # print(await c._run(\"G0X-50Z30\"))\n",
    "    # print(await c._run(\"G0Y-20Z0\"))\n",
    "    \n",
    "    gripper.move_absolute(30, 5, 100, 100, 0.1)\n",
    "    gripper.go_home()\n",
    "    # print(await c.move_to(-100, -100, 40))\n",
    "    \n",
    "    # print(await c.run())"
   ]
  },
  {
   "cell_type": "code",
   "execution_count": 14,
   "metadata": {},
   "outputs": [
    {
     "name": "stdout",
     "output_type": "stream",
     "text": [
      "Setting command {'type': 3, 'position': 30, 'velocity': 5, 'acceleration': 100, 'deacceleration': 100, 'band': 0.1, 'push_force': 0, 'push_distance': 0, 'delay': 0, 'next_command_index': -1}\n",
      "Triggering command 15\n"
     ]
    }
   ],
   "source": [
    "from gripper_rm import RMAxis\n",
    "gripper = RMAxis.create_rmaxis_modbus_rtu('/dev/tty.usbserial-B002YGXY', 115200, 0)\n",
    "gripper.go_home()\n",
    "gripper.move_absolute(30, 5, 100, 100, 0.1)\n",
    "gripper.go_home()"
   ]
  },
  {
   "cell_type": "code",
   "execution_count": null,
   "metadata": {},
   "outputs": [],
   "source": []
  }
 ],
 "metadata": {
  "kernelspec": {
   "display_name": "lab",
   "language": "python",
   "name": "python3"
  },
  "language_info": {
   "codemirror_mode": {
    "name": "ipython",
    "version": 3
   },
   "file_extension": ".py",
   "mimetype": "text/x-python",
   "name": "python",
   "nbconvert_exporter": "python",
   "pygments_lexer": "ipython3",
   "version": "3.11.9"
  }
 },
 "nbformat": 4,
 "nbformat_minor": 2
}
